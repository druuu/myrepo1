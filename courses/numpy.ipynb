{
 "cells": [
  {
   "cell_type": "markdown",
   "metadata": {
    "tags": [
     "l1",
     "content",
     "s1"
    ]
   },
   "source": []
  },
  {
   "cell_type": "markdown",
   "metadata": {
    "tags": [
     "s2",
     "l2",
     "content"
    ]
   },
   "source": []
  }
 ],
 "metadata": {
  "anaconda-cloud": {},
  "executed_sections": [
   "s1",
   "s2"
  ],
  "kernelspec": {
   "display_name": "Python 3",
   "language": "python",
   "name": "python3"
  },
  "language_info": {
   "codemirror_mode": {
    "name": "ipython",
    "version": 3
   },
   "file_extension": ".py",
   "mimetype": "text/x-python",
   "name": "python",
   "nbconvert_exporter": "python",
   "pygments_lexer": "ipython3",
   "version": "3.5.2"
  }
 },
 "nbformat": 4,
 "nbformat_minor": 2
}