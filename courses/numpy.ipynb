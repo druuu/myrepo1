{
 "cells": [
  {
   "cell_type": "markdown",
   "metadata": {
    "tags": [
     "l1",
     "content",
     "s1"
    ]
   },
   "source": [
    "## Exercise:\n",
    "\n",
    "The command shape is used to determine the dimensions of the array. The library numpy is imported initially. Numpy directly could be used to run operations such as numpy.array(). However, using short forms of libraries such as np is a common practice.\n",
    "\n",
    "Find the shape of the array below and assign the shape to the variable: two_d_shape and print it out.\n",
    "\n",
    "```python\n",
    "[[1, 0.3, 4.5],\n",
    "[2, 4.0, 6.0]]\n",
    "```"
   ]
  },
  {
   "cell_type": "code",
   "execution_count": null,
   "metadata": {
    "collapsed": true,
    "tags": [
     "l1",
     "s1",
     "ans"
    ]
   },
   "outputs": [],
   "source": [
    "two_d_shape = two_d_array.shape\n",
    "print(two_d_shape)"
   ]
  },
  {
   "cell_type": "markdown",
   "metadata": {
    "tags": [
     "s2",
     "l2",
     "content"
    ]
   },
   "source": [
    "## Exercise:\n",
    "\n",
    "Given two arrays:\n",
    "```python\n",
    "A = [1, 2, 3, 4]\n",
    "B = [2, 3, 4, 5]\n",
    "```\n",
    "\n",
    "- Initilize the above arrays as variables A & B.\n",
    "- Perform a dot product of the two vectors and assign it to the variable C.\n",
    "- Print C."
   ]
  },
  {
   "cell_type": "code",
   "execution_count": null,
   "metadata": {
    "collapsed": true,
    "tags": [
     "s2",
     "l2",
     "ans"
    ]
   },
   "outputs": [],
   "source": [
    "A = np.array([1, 2, 3, 4])\n",
    "B = np.array([2, 3, 4, 5])\n",
    "\n",
    "C = A.dot(B)"
   ]
  }
 ],
 "metadata": {
  "anaconda-cloud": {},
  "executed_sections": [
   "s1",
   "s2"
  ],
  "kernelspec": {
   "display_name": "Python 3",
   "language": "python",
   "name": "python3"
  },
  "language_info": {
   "codemirror_mode": {
    "name": "ipython",
    "version": 3
   },
   "file_extension": ".py",
   "mimetype": "text/x-python",
   "name": "python",
   "nbconvert_exporter": "python",
   "pygments_lexer": "ipython3",
   "version": "3.5.2"
  }
 },
 "nbformat": 4,
 "nbformat_minor": 2
}