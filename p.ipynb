{
 "cells": [
  {
   "cell_type": "markdown",
   "metadata": {
    "tags": [
     "s1",
     "content"
    ]
   },
   "source": [
    "# From Prototyping to Production : Building an Efficient Pipeline\n",
    "\n",
    "How should we take a complex idea, apply AI algorithms on it and deploy it in production? This is a question that is commonly asked by many of our clients at Colaberry. This, as we see is a common area of interest to many Organizations, large & small. This begs an efficient pipeline that is effective in having Data Scientists, Machine Learning Engineers and Data Engineers working in collaboration. Before we jump on to explain how we go about doing it at Colaberry, here is a visualization of some of the popular areas of interest in the AI domain:\n",
    "\n",
    "<img src=\"../images/ML_venn_diagram.png\", style=\"width: 700px;\"> \n",
    "\n",
    "Often Machine Learning Engineers build models that are used by Data Scientists who apply statistical techniques to tweak the models for improving the accuracy of generated outputs. This by no means is the only arrangement that exists across companies. The other arrangements include organizations where Data Science/Machine Learning areas are treated similarly and the gap is fuzzy. Here we assume the former setup and shall talk about how to take a problem in the larger AI domain to production.\n",
    "\n",
    "We shall consider a problem in the AI domain and see what steps we can take to production. Here is our plan for data ingestion:\n",
    "\n",
    "<img src=\"../images/small_data.png\", style=\"width: 700px;\"> \n",
    "\n",
    "## Building a Credit Classifier\n",
    "\n",
    "Consider a credit rating system where the objective is to classify the datasets into good credit and bad credit. \n",
    "\n",
    "## German Credit Data \n",
    "\n",
    "German Credit Data is a dataset in UCI Repositary having information of credit of various customers. Our task is to segregate customers into Good Credit customers and Bad Credit customers. The data is very extensive and consists of 20 attributes, maily categorical. The dataset was provided by Prof. Hofmann and contains categorical/symbolic attributes.\n",
    "\n",
    "### Spark for Raw Data Ingestion\n",
    "\n",
    "The raw data needs to be sampled so that we can start out to extract features from it for modeling. \n",
    "\n",
    "```\n",
    "# Load and parse the data\n",
    "credit_data = spark.read.format(\"csv\").load(\"/german_credit.txt\", sep=\" \")\n",
    "training_sample = credit_data.sample(False, 0.1, 20171001)\n",
    "```\n",
    "\n",
    "### Data Cleaning\n",
    "\n",
    "* We shall start out by adding a new column called 'status' and assigning it as either good/bad from the 'good/bad' column."
   ]
  },
  {
   "cell_type": "code",
   "execution_count": 1,
   "metadata": {
    "tags": [
     "s1",
     "ce"
    ]
   },
   "outputs": [
    {
     "ename": "FileNotFoundError",
     "evalue": "File b'../data/german.txt' does not exist",
     "output_type": "error",
     "traceback": [
      "\u001b[0;31m---------------------------------------------------------------------------\u001b[0m",
      "\u001b[0;31mFileNotFoundError\u001b[0m                         Traceback (most recent call last)",
      "\u001b[0;32m<ipython-input-1-4caf98fcf0f8>\u001b[0m in \u001b[0;36m<module>\u001b[0;34m()\u001b[0m\n\u001b[1;32m     15\u001b[0m \u001b[0;32mimport\u001b[0m \u001b[0mmatplotlib\u001b[0m\u001b[0;34m.\u001b[0m\u001b[0mpyplot\u001b[0m \u001b[0;32mas\u001b[0m \u001b[0mplt\u001b[0m\u001b[0;34m\u001b[0m\u001b[0m\n\u001b[1;32m     16\u001b[0m \u001b[0;34m\u001b[0m\u001b[0m\n\u001b[0;32m---> 17\u001b[0;31m \u001b[0mgerman_data\u001b[0m \u001b[0;34m=\u001b[0m \u001b[0mpd\u001b[0m\u001b[0;34m.\u001b[0m\u001b[0mread_csv\u001b[0m\u001b[0;34m(\u001b[0m\u001b[0;34m'../data/german.txt'\u001b[0m\u001b[0;34m,\u001b[0m \u001b[0msep\u001b[0m\u001b[0;34m=\u001b[0m\u001b[0;34m\" \"\u001b[0m\u001b[0;34m)\u001b[0m\u001b[0;34m\u001b[0m\u001b[0m\n\u001b[0m\u001b[1;32m     18\u001b[0m columns = ['checkin_acc', 'duration', 'credit_history', 'purpose', 'amount',\n\u001b[1;32m     19\u001b[0m            \u001b[0;34m'saving_acc'\u001b[0m\u001b[0;34m,\u001b[0m \u001b[0;34m'present_emp_since'\u001b[0m\u001b[0;34m,\u001b[0m \u001b[0;34m'inst_rate'\u001b[0m\u001b[0;34m,\u001b[0m \u001b[0;34m'personal_status'\u001b[0m\u001b[0;34m,\u001b[0m\u001b[0;34m\u001b[0m\u001b[0m\n",
      "\u001b[0;32m/usr/local/lib/python3.5/dist-packages/pandas/io/parsers.py\u001b[0m in \u001b[0;36mparser_f\u001b[0;34m(filepath_or_buffer, sep, delimiter, header, names, index_col, usecols, squeeze, prefix, mangle_dupe_cols, dtype, engine, converters, true_values, false_values, skipinitialspace, skiprows, nrows, na_values, keep_default_na, na_filter, verbose, skip_blank_lines, parse_dates, infer_datetime_format, keep_date_col, date_parser, dayfirst, iterator, chunksize, compression, thousands, decimal, lineterminator, quotechar, quoting, escapechar, comment, encoding, dialect, tupleize_cols, error_bad_lines, warn_bad_lines, skipfooter, skip_footer, doublequote, delim_whitespace, as_recarray, compact_ints, use_unsigned, low_memory, buffer_lines, memory_map, float_precision)\u001b[0m\n\u001b[1;32m    644\u001b[0m                     skip_blank_lines=skip_blank_lines)\n\u001b[1;32m    645\u001b[0m \u001b[0;34m\u001b[0m\u001b[0m\n\u001b[0;32m--> 646\u001b[0;31m         \u001b[0;32mreturn\u001b[0m \u001b[0m_read\u001b[0m\u001b[0;34m(\u001b[0m\u001b[0mfilepath_or_buffer\u001b[0m\u001b[0;34m,\u001b[0m \u001b[0mkwds\u001b[0m\u001b[0;34m)\u001b[0m\u001b[0;34m\u001b[0m\u001b[0m\n\u001b[0m\u001b[1;32m    647\u001b[0m \u001b[0;34m\u001b[0m\u001b[0m\n\u001b[1;32m    648\u001b[0m     \u001b[0mparser_f\u001b[0m\u001b[0;34m.\u001b[0m\u001b[0m__name__\u001b[0m \u001b[0;34m=\u001b[0m \u001b[0mname\u001b[0m\u001b[0;34m\u001b[0m\u001b[0m\n",
      "\u001b[0;32m/usr/local/lib/python3.5/dist-packages/pandas/io/parsers.py\u001b[0m in \u001b[0;36m_read\u001b[0;34m(filepath_or_buffer, kwds)\u001b[0m\n\u001b[1;32m    387\u001b[0m \u001b[0;34m\u001b[0m\u001b[0m\n\u001b[1;32m    388\u001b[0m     \u001b[0;31m# Create the parser.\u001b[0m\u001b[0;34m\u001b[0m\u001b[0;34m\u001b[0m\u001b[0m\n\u001b[0;32m--> 389\u001b[0;31m     \u001b[0mparser\u001b[0m \u001b[0;34m=\u001b[0m \u001b[0mTextFileReader\u001b[0m\u001b[0;34m(\u001b[0m\u001b[0mfilepath_or_buffer\u001b[0m\u001b[0;34m,\u001b[0m \u001b[0;34m**\u001b[0m\u001b[0mkwds\u001b[0m\u001b[0;34m)\u001b[0m\u001b[0;34m\u001b[0m\u001b[0m\n\u001b[0m\u001b[1;32m    390\u001b[0m \u001b[0;34m\u001b[0m\u001b[0m\n\u001b[1;32m    391\u001b[0m     \u001b[0;32mif\u001b[0m \u001b[0;34m(\u001b[0m\u001b[0mnrows\u001b[0m \u001b[0;32mis\u001b[0m \u001b[0;32mnot\u001b[0m \u001b[0;32mNone\u001b[0m\u001b[0;34m)\u001b[0m \u001b[0;32mand\u001b[0m \u001b[0;34m(\u001b[0m\u001b[0mchunksize\u001b[0m \u001b[0;32mis\u001b[0m \u001b[0;32mnot\u001b[0m \u001b[0;32mNone\u001b[0m\u001b[0;34m)\u001b[0m\u001b[0;34m:\u001b[0m\u001b[0;34m\u001b[0m\u001b[0m\n",
      "\u001b[0;32m/usr/local/lib/python3.5/dist-packages/pandas/io/parsers.py\u001b[0m in \u001b[0;36m__init__\u001b[0;34m(self, f, engine, **kwds)\u001b[0m\n\u001b[1;32m    728\u001b[0m             \u001b[0mself\u001b[0m\u001b[0;34m.\u001b[0m\u001b[0moptions\u001b[0m\u001b[0;34m[\u001b[0m\u001b[0;34m'has_index_names'\u001b[0m\u001b[0;34m]\u001b[0m \u001b[0;34m=\u001b[0m \u001b[0mkwds\u001b[0m\u001b[0;34m[\u001b[0m\u001b[0;34m'has_index_names'\u001b[0m\u001b[0;34m]\u001b[0m\u001b[0;34m\u001b[0m\u001b[0m\n\u001b[1;32m    729\u001b[0m \u001b[0;34m\u001b[0m\u001b[0m\n\u001b[0;32m--> 730\u001b[0;31m         \u001b[0mself\u001b[0m\u001b[0;34m.\u001b[0m\u001b[0m_make_engine\u001b[0m\u001b[0;34m(\u001b[0m\u001b[0mself\u001b[0m\u001b[0;34m.\u001b[0m\u001b[0mengine\u001b[0m\u001b[0;34m)\u001b[0m\u001b[0;34m\u001b[0m\u001b[0m\n\u001b[0m\u001b[1;32m    731\u001b[0m \u001b[0;34m\u001b[0m\u001b[0m\n\u001b[1;32m    732\u001b[0m     \u001b[0;32mdef\u001b[0m \u001b[0mclose\u001b[0m\u001b[0;34m(\u001b[0m\u001b[0mself\u001b[0m\u001b[0;34m)\u001b[0m\u001b[0;34m:\u001b[0m\u001b[0;34m\u001b[0m\u001b[0m\n",
      "\u001b[0;32m/usr/local/lib/python3.5/dist-packages/pandas/io/parsers.py\u001b[0m in \u001b[0;36m_make_engine\u001b[0;34m(self, engine)\u001b[0m\n\u001b[1;32m    921\u001b[0m     \u001b[0;32mdef\u001b[0m \u001b[0m_make_engine\u001b[0m\u001b[0;34m(\u001b[0m\u001b[0mself\u001b[0m\u001b[0;34m,\u001b[0m \u001b[0mengine\u001b[0m\u001b[0;34m=\u001b[0m\u001b[0;34m'c'\u001b[0m\u001b[0;34m)\u001b[0m\u001b[0;34m:\u001b[0m\u001b[0;34m\u001b[0m\u001b[0m\n\u001b[1;32m    922\u001b[0m         \u001b[0;32mif\u001b[0m \u001b[0mengine\u001b[0m \u001b[0;34m==\u001b[0m \u001b[0;34m'c'\u001b[0m\u001b[0;34m:\u001b[0m\u001b[0;34m\u001b[0m\u001b[0m\n\u001b[0;32m--> 923\u001b[0;31m             \u001b[0mself\u001b[0m\u001b[0;34m.\u001b[0m\u001b[0m_engine\u001b[0m \u001b[0;34m=\u001b[0m \u001b[0mCParserWrapper\u001b[0m\u001b[0;34m(\u001b[0m\u001b[0mself\u001b[0m\u001b[0;34m.\u001b[0m\u001b[0mf\u001b[0m\u001b[0;34m,\u001b[0m \u001b[0;34m**\u001b[0m\u001b[0mself\u001b[0m\u001b[0;34m.\u001b[0m\u001b[0moptions\u001b[0m\u001b[0;34m)\u001b[0m\u001b[0;34m\u001b[0m\u001b[0m\n\u001b[0m\u001b[1;32m    924\u001b[0m         \u001b[0;32melse\u001b[0m\u001b[0;34m:\u001b[0m\u001b[0;34m\u001b[0m\u001b[0m\n\u001b[1;32m    925\u001b[0m             \u001b[0;32mif\u001b[0m \u001b[0mengine\u001b[0m \u001b[0;34m==\u001b[0m \u001b[0;34m'python'\u001b[0m\u001b[0;34m:\u001b[0m\u001b[0;34m\u001b[0m\u001b[0m\n",
      "\u001b[0;32m/usr/local/lib/python3.5/dist-packages/pandas/io/parsers.py\u001b[0m in \u001b[0;36m__init__\u001b[0;34m(self, src, **kwds)\u001b[0m\n\u001b[1;32m   1388\u001b[0m         \u001b[0mkwds\u001b[0m\u001b[0;34m[\u001b[0m\u001b[0;34m'allow_leading_cols'\u001b[0m\u001b[0;34m]\u001b[0m \u001b[0;34m=\u001b[0m \u001b[0mself\u001b[0m\u001b[0;34m.\u001b[0m\u001b[0mindex_col\u001b[0m \u001b[0;32mis\u001b[0m \u001b[0;32mnot\u001b[0m \u001b[0;32mFalse\u001b[0m\u001b[0;34m\u001b[0m\u001b[0m\n\u001b[1;32m   1389\u001b[0m \u001b[0;34m\u001b[0m\u001b[0m\n\u001b[0;32m-> 1390\u001b[0;31m         \u001b[0mself\u001b[0m\u001b[0;34m.\u001b[0m\u001b[0m_reader\u001b[0m \u001b[0;34m=\u001b[0m \u001b[0m_parser\u001b[0m\u001b[0;34m.\u001b[0m\u001b[0mTextReader\u001b[0m\u001b[0;34m(\u001b[0m\u001b[0msrc\u001b[0m\u001b[0;34m,\u001b[0m \u001b[0;34m**\u001b[0m\u001b[0mkwds\u001b[0m\u001b[0;34m)\u001b[0m\u001b[0;34m\u001b[0m\u001b[0m\n\u001b[0m\u001b[1;32m   1391\u001b[0m \u001b[0;34m\u001b[0m\u001b[0m\n\u001b[1;32m   1392\u001b[0m         \u001b[0;31m# XXX\u001b[0m\u001b[0;34m\u001b[0m\u001b[0;34m\u001b[0m\u001b[0m\n",
      "\u001b[0;32mpandas/parser.pyx\u001b[0m in \u001b[0;36mpandas.parser.TextReader.__cinit__ (pandas/parser.c:4184)\u001b[0;34m()\u001b[0m\n",
      "\u001b[0;32mpandas/parser.pyx\u001b[0m in \u001b[0;36mpandas.parser.TextReader._setup_parser_source (pandas/parser.c:8449)\u001b[0;34m()\u001b[0m\n",
      "\u001b[0;31mFileNotFoundError\u001b[0m: File b'../data/german.txt' does not exist"
     ]
    },
    {
     "name": "stdout",
     "output_type": "stream",
     "text": [
      "\n",
      "Please follow the instructions given and use the same variables provided in the instructions.\n"
     ]
    }
   ],
   "source": [
    "%matplotlib inline\n",
    "from sklearn.model_selection import train_test_split\n",
    "from sklearn.linear_model import LogisticRegression\n",
    "from sklearn import model_selection\n",
    "from sklearn.metrics import classification_report, confusion_matrix,accuracy_score, roc_curve, roc_auc_score\n",
    "from sklearn.tree import DecisionTreeClassifier\n",
    "from sklearn.neighbors import KNeighborsClassifier\n",
    "from sklearn.naive_bayes import GaussianNB\n",
    "from sklearn.svm import SVC\n",
    "from sklearn.preprocessing import scale\n",
    "import numpy as np\n",
    "import pandas as pd\n",
    "import seaborn as sns\n",
    "import numpy as np\n",
    "import matplotlib.pyplot as plt\n",
    "\n",
    "german_data = pd.read_csv('../data/german.txt', sep=\" \")\n",
    "columns = ['checkin_acc', 'duration', 'credit_history', 'purpose', 'amount',\n",
    "           'saving_acc', 'present_emp_since', 'inst_rate', 'personal_status',\n",
    "           'other_debtors', 'residing_since', 'property', 'age', 'inst_plans', \n",
    "           'housing', 'num_credits', 'job', 'dependents', 'telephone', 'foreign_worker', 'good/bad']\n",
    "german_data.columns = columns\n",
    "german_data.head(3)"
   ]
  },
  {
   "cell_type": "markdown",
   "metadata": {
    "tags": [
     "s1",
     "hint"
    ]
   },
   "source": [
    "Filter by using numpy.where() and separate the features into Good/Bad. "
   ]
  },
  {
   "cell_type": "code",
   "execution_count": 21,
   "metadata": {
    "tags": [
     "s1",
     "ans"
    ]
   },
   "outputs": [
    {
     "data": {
      "text/html": [
       "<div>\n",
       "<table border=\"1\" class=\"dataframe\">\n",
       "  <thead>\n",
       "    <tr style=\"text-align: right;\">\n",
       "      <th></th>\n",
       "      <th>checkin_acc</th>\n",
       "      <th>duration</th>\n",
       "      <th>credit_history</th>\n",
       "      <th>purpose</th>\n",
       "      <th>amount</th>\n",
       "      <th>saving_acc</th>\n",
       "      <th>present_emp_since</th>\n",
       "      <th>inst_rate</th>\n",
       "      <th>personal_status</th>\n",
       "      <th>other_debtors</th>\n",
       "      <th>...</th>\n",
       "      <th>age</th>\n",
       "      <th>inst_plans</th>\n",
       "      <th>housing</th>\n",
       "      <th>num_credits</th>\n",
       "      <th>job</th>\n",
       "      <th>dependents</th>\n",
       "      <th>telephone</th>\n",
       "      <th>foreign_worker</th>\n",
       "      <th>good/bad</th>\n",
       "      <th>status</th>\n",
       "    </tr>\n",
       "  </thead>\n",
       "  <tbody>\n",
       "    <tr>\n",
       "      <th>0</th>\n",
       "      <td>A11</td>\n",
       "      <td>6</td>\n",
       "      <td>A34</td>\n",
       "      <td>A43</td>\n",
       "      <td>1169</td>\n",
       "      <td>A65</td>\n",
       "      <td>A75</td>\n",
       "      <td>4</td>\n",
       "      <td>A93</td>\n",
       "      <td>A101</td>\n",
       "      <td>...</td>\n",
       "      <td>67</td>\n",
       "      <td>A143</td>\n",
       "      <td>A152</td>\n",
       "      <td>2</td>\n",
       "      <td>A173</td>\n",
       "      <td>1</td>\n",
       "      <td>A192</td>\n",
       "      <td>A201</td>\n",
       "      <td>1</td>\n",
       "      <td>Good</td>\n",
       "    </tr>\n",
       "    <tr>\n",
       "      <th>1</th>\n",
       "      <td>A12</td>\n",
       "      <td>48</td>\n",
       "      <td>A32</td>\n",
       "      <td>A43</td>\n",
       "      <td>5951</td>\n",
       "      <td>A61</td>\n",
       "      <td>A73</td>\n",
       "      <td>2</td>\n",
       "      <td>A92</td>\n",
       "      <td>A101</td>\n",
       "      <td>...</td>\n",
       "      <td>22</td>\n",
       "      <td>A143</td>\n",
       "      <td>A152</td>\n",
       "      <td>1</td>\n",
       "      <td>A173</td>\n",
       "      <td>1</td>\n",
       "      <td>A191</td>\n",
       "      <td>A201</td>\n",
       "      <td>2</td>\n",
       "      <td>Bad</td>\n",
       "    </tr>\n",
       "    <tr>\n",
       "      <th>2</th>\n",
       "      <td>A14</td>\n",
       "      <td>12</td>\n",
       "      <td>A34</td>\n",
       "      <td>A46</td>\n",
       "      <td>2096</td>\n",
       "      <td>A61</td>\n",
       "      <td>A74</td>\n",
       "      <td>2</td>\n",
       "      <td>A93</td>\n",
       "      <td>A101</td>\n",
       "      <td>...</td>\n",
       "      <td>49</td>\n",
       "      <td>A143</td>\n",
       "      <td>A152</td>\n",
       "      <td>1</td>\n",
       "      <td>A172</td>\n",
       "      <td>2</td>\n",
       "      <td>A191</td>\n",
       "      <td>A201</td>\n",
       "      <td>1</td>\n",
       "      <td>Good</td>\n",
       "    </tr>\n",
       "    <tr>\n",
       "      <th>3</th>\n",
       "      <td>A11</td>\n",
       "      <td>42</td>\n",
       "      <td>A32</td>\n",
       "      <td>A42</td>\n",
       "      <td>7882</td>\n",
       "      <td>A61</td>\n",
       "      <td>A74</td>\n",
       "      <td>2</td>\n",
       "      <td>A93</td>\n",
       "      <td>A103</td>\n",
       "      <td>...</td>\n",
       "      <td>45</td>\n",
       "      <td>A143</td>\n",
       "      <td>A153</td>\n",
       "      <td>1</td>\n",
       "      <td>A173</td>\n",
       "      <td>2</td>\n",
       "      <td>A191</td>\n",
       "      <td>A201</td>\n",
       "      <td>1</td>\n",
       "      <td>Good</td>\n",
       "    </tr>\n",
       "    <tr>\n",
       "      <th>4</th>\n",
       "      <td>A11</td>\n",
       "      <td>24</td>\n",
       "      <td>A33</td>\n",
       "      <td>A40</td>\n",
       "      <td>4870</td>\n",
       "      <td>A61</td>\n",
       "      <td>A73</td>\n",
       "      <td>3</td>\n",
       "      <td>A93</td>\n",
       "      <td>A101</td>\n",
       "      <td>...</td>\n",
       "      <td>53</td>\n",
       "      <td>A143</td>\n",
       "      <td>A153</td>\n",
       "      <td>2</td>\n",
       "      <td>A173</td>\n",
       "      <td>2</td>\n",
       "      <td>A191</td>\n",
       "      <td>A201</td>\n",
       "      <td>2</td>\n",
       "      <td>Bad</td>\n",
       "    </tr>\n",
       "  </tbody>\n",
       "</table>\n",
       "<p>5 rows × 22 columns</p>\n",
       "</div>"
      ],
      "text/plain": [
       "  checkin_acc  duration credit_history purpose  amount saving_acc  \\\n",
       "0         A11         6            A34     A43    1169        A65   \n",
       "1         A12        48            A32     A43    5951        A61   \n",
       "2         A14        12            A34     A46    2096        A61   \n",
       "3         A11        42            A32     A42    7882        A61   \n",
       "4         A11        24            A33     A40    4870        A61   \n",
       "\n",
       "  present_emp_since  inst_rate personal_status other_debtors  ...    age  \\\n",
       "0               A75          4             A93          A101  ...     67   \n",
       "1               A73          2             A92          A101  ...     22   \n",
       "2               A74          2             A93          A101  ...     49   \n",
       "3               A74          2             A93          A103  ...     45   \n",
       "4               A73          3             A93          A101  ...     53   \n",
       "\n",
       "  inst_plans  housing num_credits   job  dependents telephone  foreign_worker  \\\n",
       "0       A143     A152           2  A173           1      A192            A201   \n",
       "1       A143     A152           1  A173           1      A191            A201   \n",
       "2       A143     A152           1  A172           2      A191            A201   \n",
       "3       A143     A153           1  A173           2      A191            A201   \n",
       "4       A143     A153           2  A173           2      A191            A201   \n",
       "\n",
       "  good/bad status  \n",
       "0        1   Good  \n",
       "1        2    Bad  \n",
       "2        1   Good  \n",
       "3        1   Good  \n",
       "4        2    Bad  \n",
       "\n",
       "[5 rows x 22 columns]"
      ]
     },
     "execution_count": 21,
     "metadata": {},
     "output_type": "execute_result"
    }
   ],
   "source": [
    "german_data[\"status\"] = np.where(german_data['good/bad'] == 1, \"Good\", \"Bad\")\n",
    "german_data.head()"
   ]
  },
  {
   "cell_type": "code",
   "execution_count": 22,
   "metadata": {
    "tags": [
     "s1",
     "hid"
    ]
   },
   "outputs": [
    {
     "name": "stdout",
     "output_type": "stream",
     "text": [
      "continue\n"
     ]
    }
   ],
   "source": [
    "try:\n",
    "    if isinstance(german_data['status'], pd.core.series.Series):\n",
    "        ref_assert_var = True\n",
    "        print('continue')\n",
    "    else:\n",
    "        ref_assert_var = False\n",
    "        print('Please follow the instructions given and use the same variables provided in the instructions.')\n",
    "except Exception:\n",
    "    print('Please follow the instructions given and use the same variables provided in the instructions.')"
   ]
  },
  {
   "cell_type": "markdown",
   "metadata": {
    "tags": [
     "s2",
     "content"
    ]
   },
   "source": [
    "## Exploratory Data Analysis\n",
    "\n",
    "Perform EDA on this dataset by visualizing:\n",
    "    * countplot of status\n",
    "    * Histogram of credit amount, Amount comparison by credit status, Age of Borrowers.\n",
    "    * Regression plot of duration vs amount."
   ]
  },
  {
   "cell_type": "code",
   "execution_count": 30,
   "metadata": {
    "tags": [
     "s2",
     "ce"
    ]
   },
   "outputs": [
    {
     "data": {
      "image/png": "[encoded data removed]",
      "text/plain": [
       "<matplotlib.figure.Figure at 0x118a4ba58>"
      ]
     },
     "metadata": {},
     "output_type": "display_data"
    }
   ],
   "source": [
    "# Set up the matplotlib figure\n",
    "f, axes = plt.subplots(2, 3, figsize=(14, 12))\n",
    "sns.despine(left=True)\n",
    "\n",
    "sns.set(style=\"darkgrid\")\n",
    "sns.countplot(x=\"status\", data=german_data, ax=axes[0, 0])\n",
    "sns.distplot(german_data.amount, kde = False, ax=axes[0, 1])\n",
    "sns.kdeplot(german_data[german_data['good/bad'] == 1].amount, color='g',\n",
    "            label=\"Good\", ax=axes[1, 0])\n",
    "sns.kdeplot(german_data[german_data['good/bad'] == 2].amount, color='r',\n",
    "            label=\"Bad\", ax=axes[1, 0])\n",
    "sns.kdeplot(german_data[german_data['good/bad'] == 1].age, color = 'g', \n",
    "            label=\"Good\", ax=axes[1, 1])\n",
    "sns.kdeplot(german_data[german_data['good/bad'] == 2].age, color = 'r', \n",
    "            label=\"Bad\", ax=axes[1, 1])\n",
    "sns.distplot(credit_features['amount'], ax=axes[1, 2])\n",
    "\n",
    "# Classify the amount\n",
    "def amount_class(amount):\n",
    "    '''\n",
    "    Classify the amount into different classes.\n",
    "    Args:\n",
    "        amount (float): Total amount\n",
    "    Returns:\n",
    "        class (int): Type of class.\n",
    "        \n",
    "    '''\n",
    "    if amount < 5000:\n",
    "        return 1\n",
    "    elif amount < 10000:\n",
    "        return 2\n",
    "    elif amount < 15000:\n",
    "        return 3\n",
    "    else:\n",
    "        return 4\n",
    "\n",
    "credit_features['amount_class']=credit_features['amount'].map(amount_class)\n",
    "\n",
    "plt.setp(axes, yticks=[])\n",
    "plt.tight_layout()"
   ]
  },
  {
   "cell_type": "markdown",
   "metadata": {
    "tags": [
     "s2",
     "hint"
    ]
   },
   "source": [
    "Use seaborn lmplot to generate the regression plot."
   ]
  },
  {
   "cell_type": "code",
   "execution_count": 31,
   "metadata": {
    "tags": [
     "s2",
     "ans"
    ]
   },
   "outputs": [
    {
     "data": {
      "image/png": "[encoded data removed]",
      "text/plain": [
       "<matplotlib.figure.Figure at 0x118f738d0>"
      ]
     },
     "metadata": {},
     "output_type": "display_data"
    }
   ],
   "source": [
    "g=sns.lmplot(x='duration', y='amount', fit_reg = True, data=german_data)"
   ]
  },
  {
   "cell_type": "code",
   "execution_count": 32,
   "metadata": {
    "tags": [
     "s2",
     "hid"
    ]
   },
   "outputs": [
    {
     "name": "stdout",
     "output_type": "stream",
     "text": [
      "continue\n"
     ]
    }
   ],
   "source": [
    "try:\n",
    "    if g.data.amount[0] == 1169:\n",
    "        ref_assert_var = True\n",
    "        print('continue')\n",
    "    else:\n",
    "        ref_assert_var = False\n",
    "        print('Please follow the instructions given and use the same variables provided in the instructions.')\n",
    "except Exception:\n",
    "    print('Please follow the instructions given and use the same variables provided in the instructions.')"
   ]
  },
  {
   "cell_type": "markdown",
   "metadata": {
    "tags": [
     "s3",
     "content"
    ]
   },
   "source": [
    "## Feature Extraction\n",
    "\n",
    "At this step let us extract features and vectorize certain values. Use get_dummies in pandas to extract features."
   ]
  },
  {
   "cell_type": "code",
   "execution_count": 33,
   "metadata": {
    "collapsed": true,
    "tags": [
     "s3",
     "ce"
    ]
   },
   "outputs": [],
   "source": [
    "try:\n",
    "    german_data = german_data.drop(\"status\", 1)\n",
    "except:\n",
    "    print(\"Status is dropped\")\n",
    "german_data.head(5)\n",
    "german_data['good/bad'] = german_data['good/bad']-1\n",
    "\n",
    "features = ['checkin_acc', 'credit_history', 'purpose','saving_acc', \n",
    "           'present_emp_since', 'personal_status', 'other_debtors',\n",
    "           'property','inst_plans', 'housing','job', 'telephone', 'foreign_worker']"
   ]
  },
  {
   "cell_type": "markdown",
   "metadata": {
    "tags": [
     "s3",
     "hint"
    ]
   },
   "source": [
    "Use pd.get_dummies"
   ]
  },
  {
   "cell_type": "code",
   "execution_count": 34,
   "metadata": {
    "tags": [
     "s3",
     "ans"
    ]
   },
   "outputs": [
    {
     "data": {
      "text/html": [
       "<div>\n",
       "<table border=\"1\" class=\"dataframe\">\n",
       "  <thead>\n",
       "    <tr style=\"text-align: right;\">\n",
       "      <th></th>\n",
       "      <th>duration</th>\n",
       "      <th>amount</th>\n",
       "      <th>inst_rate</th>\n",
       "      <th>residing_since</th>\n",
       "      <th>age</th>\n",
       "      <th>num_credits</th>\n",
       "      <th>dependents</th>\n",
       "      <th>good/bad</th>\n",
       "      <th>checkin_acc_A11</th>\n",
       "      <th>checkin_acc_A12</th>\n",
       "      <th>...</th>\n",
       "      <th>housing_A152</th>\n",
       "      <th>housing_A153</th>\n",
       "      <th>job_A171</th>\n",
       "      <th>job_A172</th>\n",
       "      <th>job_A173</th>\n",
       "      <th>job_A174</th>\n",
       "      <th>telephone_A191</th>\n",
       "      <th>telephone_A192</th>\n",
       "      <th>foreign_worker_A201</th>\n",
       "      <th>foreign_worker_A202</th>\n",
       "    </tr>\n",
       "  </thead>\n",
       "  <tbody>\n",
       "    <tr>\n",
       "      <th>0</th>\n",
       "      <td>6</td>\n",
       "      <td>1169</td>\n",
       "      <td>4</td>\n",
       "      <td>4</td>\n",
       "      <td>67</td>\n",
       "      <td>2</td>\n",
       "      <td>1</td>\n",
       "      <td>0</td>\n",
       "      <td>1</td>\n",
       "      <td>0</td>\n",
       "      <td>...</td>\n",
       "      <td>1</td>\n",
       "      <td>0</td>\n",
       "      <td>0</td>\n",
       "      <td>0</td>\n",
       "      <td>1</td>\n",
       "      <td>0</td>\n",
       "      <td>0</td>\n",
       "      <td>1</td>\n",
       "      <td>1</td>\n",
       "      <td>0</td>\n",
       "    </tr>\n",
       "    <tr>\n",
       "      <th>1</th>\n",
       "      <td>48</td>\n",
       "      <td>5951</td>\n",
       "      <td>2</td>\n",
       "      <td>2</td>\n",
       "      <td>22</td>\n",
       "      <td>1</td>\n",
       "      <td>1</td>\n",
       "      <td>1</td>\n",
       "      <td>0</td>\n",
       "      <td>1</td>\n",
       "      <td>...</td>\n",
       "      <td>1</td>\n",
       "      <td>0</td>\n",
       "      <td>0</td>\n",
       "      <td>0</td>\n",
       "      <td>1</td>\n",
       "      <td>0</td>\n",
       "      <td>1</td>\n",
       "      <td>0</td>\n",
       "      <td>1</td>\n",
       "      <td>0</td>\n",
       "    </tr>\n",
       "    <tr>\n",
       "      <th>2</th>\n",
       "      <td>12</td>\n",
       "      <td>2096</td>\n",
       "      <td>2</td>\n",
       "      <td>3</td>\n",
       "      <td>49</td>\n",
       "      <td>1</td>\n",
       "      <td>2</td>\n",
       "      <td>0</td>\n",
       "      <td>0</td>\n",
       "      <td>0</td>\n",
       "      <td>...</td>\n",
       "      <td>1</td>\n",
       "      <td>0</td>\n",
       "      <td>0</td>\n",
       "      <td>1</td>\n",
       "      <td>0</td>\n",
       "      <td>0</td>\n",
       "      <td>1</td>\n",
       "      <td>0</td>\n",
       "      <td>1</td>\n",
       "      <td>0</td>\n",
       "    </tr>\n",
       "    <tr>\n",
       "      <th>3</th>\n",
       "      <td>42</td>\n",
       "      <td>7882</td>\n",
       "      <td>2</td>\n",
       "      <td>4</td>\n",
       "      <td>45</td>\n",
       "      <td>1</td>\n",
       "      <td>2</td>\n",
       "      <td>0</td>\n",
       "      <td>1</td>\n",
       "      <td>0</td>\n",
       "      <td>...</td>\n",
       "      <td>0</td>\n",
       "      <td>1</td>\n",
       "      <td>0</td>\n",
       "      <td>0</td>\n",
       "      <td>1</td>\n",
       "      <td>0</td>\n",
       "      <td>1</td>\n",
       "      <td>0</td>\n",
       "      <td>1</td>\n",
       "      <td>0</td>\n",
       "    </tr>\n",
       "    <tr>\n",
       "      <th>4</th>\n",
       "      <td>24</td>\n",
       "      <td>4870</td>\n",
       "      <td>3</td>\n",
       "      <td>4</td>\n",
       "      <td>53</td>\n",
       "      <td>2</td>\n",
       "      <td>2</td>\n",
       "      <td>1</td>\n",
       "      <td>1</td>\n",
       "      <td>0</td>\n",
       "      <td>...</td>\n",
       "      <td>0</td>\n",
       "      <td>1</td>\n",
       "      <td>0</td>\n",
       "      <td>0</td>\n",
       "      <td>1</td>\n",
       "      <td>0</td>\n",
       "      <td>1</td>\n",
       "      <td>0</td>\n",
       "      <td>1</td>\n",
       "      <td>0</td>\n",
       "    </tr>\n",
       "  </tbody>\n",
       "</table>\n",
       "<p>5 rows × 62 columns</p>\n",
       "</div>"
      ],
      "text/plain": [
       "   duration  amount  inst_rate  residing_since  age  num_credits  dependents  \\\n",
       "0         6    1169          4               4   67            2           1   \n",
       "1        48    5951          2               2   22            1           1   \n",
       "2        12    2096          2               3   49            1           2   \n",
       "3        42    7882          2               4   45            1           2   \n",
       "4        24    4870          3               4   53            2           2   \n",
       "\n",
       "   good/bad  checkin_acc_A11  checkin_acc_A12         ...           \\\n",
       "0         0                1                0         ...            \n",
       "1         1                0                1         ...            \n",
       "2         0                0                0         ...            \n",
       "3         0                1                0         ...            \n",
       "4         1                1                0         ...            \n",
       "\n",
       "   housing_A152  housing_A153  job_A171  job_A172  job_A173  job_A174  \\\n",
       "0             1             0         0         0         1         0   \n",
       "1             1             0         0         0         1         0   \n",
       "2             1             0         0         1         0         0   \n",
       "3             0             1         0         0         1         0   \n",
       "4             0             1         0         0         1         0   \n",
       "\n",
       "   telephone_A191  telephone_A192  foreign_worker_A201  foreign_worker_A202  \n",
       "0               0               1                    1                    0  \n",
       "1               1               0                    1                    0  \n",
       "2               1               0                    1                    0  \n",
       "3               1               0                    1                    0  \n",
       "4               1               0                    1                    0  \n",
       "\n",
       "[5 rows x 62 columns]"
      ]
     },
     "execution_count": 34,
     "metadata": {},
     "output_type": "execute_result"
    }
   ],
   "source": [
    "credit_features = pd.get_dummies(german_data, prefix=features, columns=features)\n",
    "credit_features.head()"
   ]
  },
  {
   "cell_type": "code",
   "execution_count": 35,
   "metadata": {
    "tags": [
     "s3",
     "hid"
    ]
   },
   "outputs": [
    {
     "name": "stdout",
     "output_type": "stream",
     "text": [
      "continue\n"
     ]
    }
   ],
   "source": [
    "try:\n",
    "    if 'duration' in credit_features.columns:\n",
    "        ref_assert_var = True\n",
    "        print('continue')\n",
    "    else:\n",
    "        ref_assert_var = False\n",
    "        print('Please follow the instructions given and use the same variables provided in the instructions.')\n",
    "except Exception:\n",
    "    print('Please follow the instructions given and use the same variables provided in the instructions.')"
   ]
  },
  {
   "cell_type": "markdown",
   "metadata": {
    "tags": [
     "s4",
     "content"
    ]
   },
   "source": [
    "### Prepare Dataset for Modeling\n",
    "\n",
    "Post feature extraction, the dataset needs to be split for modeling.\n",
    "\n",
    "* split the data in training:test as 0.7:0.3 ratio and assign it to the variables,\n",
    "X_train, X_test, y_train, y_test."
   ]
  },
  {
   "cell_type": "code",
   "execution_count": 36,
   "metadata": {
    "collapsed": true,
    "tags": [
     "s4",
     "ce"
    ]
   },
   "outputs": [],
   "source": [
    "X=credit_features.drop('good/bad',1)\n",
    "Y=credit_features['good/bad']\n",
    "\n",
    "#Standardizing the dataset\n",
    "names = list(X.columns.values)\n",
    "num=names[:5]\n",
    "cat=names[5:]\n",
    "\n",
    "#Performing the Scaling funcion\n",
    "X_scale=pd.DataFrame(scale(X[num]))\n",
    "X_scale.columns = num\n",
    "X = pd.concat((X_scale,X[cat]), axis=1)"
   ]
  },
  {
   "cell_type": "markdown",
   "metadata": {
    "tags": [
     "s4",
     "hint"
    ]
   },
   "source": [
    "Use train_test_split() function "
   ]
  },
  {
   "cell_type": "code",
   "execution_count": 37,
   "metadata": {
    "collapsed": true,
    "tags": [
     "s4",
     "ans"
    ]
   },
   "outputs": [],
   "source": [
    "#Split the Dataset into Train and Test\n",
    "X_train, X_test, y_train, y_test = train_test_split(X, Y, test_size=0.3, random_state=0) "
   ]
  },
  {
   "cell_type": "code",
   "execution_count": 38,
   "metadata": {
    "tags": [
     "s4",
     "hid"
    ]
   },
   "outputs": [
    {
     "name": "stdout",
     "output_type": "stream",
     "text": [
      "continue\n"
     ]
    }
   ],
   "source": [
    "try:\n",
    "    if X_train.size == 42700:\n",
    "        ref_assert_var = True\n",
    "        print('continue')\n",
    "    else:\n",
    "        ref_assert_var = False\n",
    "        print('Please follow the instructions given and use the same variables provided in the instructions.')\n",
    "except Exception:\n",
    "    print('Please follow the instructions given and use the same variables provided in the instructions.')"
   ]
  },
  {
   "cell_type": "markdown",
   "metadata": {
    "tags": [
     "s5",
     "content"
    ]
   },
   "source": [
    "## Model Selection\n",
    "\n",
    "Let us apply various classifiers to the same dataset and discover the best performing model.\n",
    "\n",
    "* Append the CV scores to the list, cv_scores.\n",
    "* Make predictions on test set with the best model, best_model (var name) and assign the predictions to variable, y_hat.\n",
    "\n",
    "## Machine Learning Solutions\n",
    "\n",
    "* We see that the models have not used any causal feautures. Looking at causal features would involve looking up research journals in the area and going for a custom implementation. \n",
    "* During the problem discovery phase it is good to look up ML solutions."
   ]
  },
  {
   "cell_type": "code",
   "execution_count": 39,
   "metadata": {
    "tags": [
     "s5",
     "ce"
    ]
   },
   "outputs": [
    {
     "name": "stdout",
     "output_type": "stream",
     "text": [
      "['KNN: 0.727143 (0.029589)', 'CART: 0.688571 (0.034876)', 'NB: 0.698571 (0.082919)', 'SVM: 0.731429 (0.045981)']\n"
     ]
    },
    {
     "data": {
      "image/png": "[encoded data removed]",
      "text/plain": [
       "<matplotlib.figure.Figure at 0x117e94588>"
      ]
     },
     "metadata": {},
     "output_type": "display_data"
    }
   ],
   "source": [
    "models = []\n",
    "\n",
    "models.append(('KNN', KNeighborsClassifier()))\n",
    "models.append(('CART', DecisionTreeClassifier()))\n",
    "models.append(('NB', GaussianNB()))\n",
    "models.append(('SVM', SVC()))\n",
    "seed = 7\n",
    "scoring = 'accuracy'\n",
    "cv_scores = []\n",
    "names = []\n",
    "accuracy_scores = list()\n",
    "\n",
    "for name, model in models:\n",
    "    kfold = model_selection.KFold(n_splits=10, random_state=seed)\n",
    "    cv_results = model_selection.cross_val_score(model, X_train, y_train, cv=kfold, scoring=scoring)\n",
    "    cv_scores.append(cv_results)\n",
    "    names.append(name)\n",
    "    msg = \"%s: %f (%f)\" % (name, cv_results.mean(), cv_results.std())\n",
    "    pd.DataFrame(accuracy_scores.append(msg))\n",
    "    \n",
    "#Printing the accuracy achieved by each model    \n",
    "print(accuracy_scores)\n",
    "\n",
    "#PLotting the model comparision as box plot\n",
    "fig = plt.figure()\n",
    "fig.suptitle('Algorithm Comparison')\n",
    "ax = fig.add_subplot(111)\n",
    "plt.boxplot(cv_scores)\n",
    "ax.set_xticklabels(names)\n",
    "plt.show()"
   ]
  },
  {
   "cell_type": "markdown",
   "metadata": {
    "tags": [
     "s5",
     "hint"
    ]
   },
   "source": [
    "Use .fit and .predict functions"
   ]
  },
  {
   "cell_type": "code",
   "execution_count": 40,
   "metadata": {
    "tags": [
     "s5",
     "ans"
    ]
   },
   "outputs": [
    {
     "name": "stdout",
     "output_type": "stream",
     "text": [
      "[1 0 0 0 1 0 0 0 0 0 1 1 0 0 1 0 0 0 1 0 0 0 0 0 0 1 0 0 0 0 0 0 0 0 0 0 0\n",
      " 0 0 0 0 0 0 0 0 0 0 1 0 0 0 1 0 0 0 0 1 0 0 0 1 0 0 0 0 0 0 0 1 0 0 0 1 0\n",
      " 1 0 0 0 0 0 0 0 0 0 0 0 0 0 0 0 0 0 0 0 0 0 0 0 0 0 0 0 0 0 0 0 0 1 1 0 0\n",
      " 1 1 0 0 0 0 0 0 0 0 0 0 1 0 0 0 0 0 0 0 0 1 0 0 0 0 0 0 1 1 1 0 0 0 0 0 1\n",
      " 0 0 0 0 0 0 0 0 0 0 0 0 0 1 0 0 1 1 0 0 0 0 1 0 1 0 0 0 0 0 0 0 0 0 0 1 0\n",
      " 0 0 0 0 0 0 1 0 0 0 0 0 0 0 0 0 1 1 0 0 0 1 0 0 0 0 1 0 0 0 0 0 0 0 0 1 0\n",
      " 0 0 0 0 0 1 0 0 0 0 0 0 0 0 0 0 0 0 0 0 0 0 0 0 0 0 0 0 0 0 0 0 0 0 1 0 0\n",
      " 0 0 0 0 0 1 1 0 0 0 0 1 0 0 0 0 0 0 0 0 0 0 0 0 0 1 0 0 0 0 0 0 0 0 0 0 0\n",
      " 1 0 1 1]\n"
     ]
    }
   ],
   "source": [
    "# Make predictions on Test dataset using SVM.\n",
    "best_model = SVC()\n",
    "best_model.fit(X_train, y_train)\n",
    "y_hat = best_model.predict(X_test)\n",
    "print(y_hat)"
   ]
  },
  {
   "cell_type": "code",
   "execution_count": 41,
   "metadata": {
    "tags": [
     "s5",
     "hid"
    ]
   },
   "outputs": [
    {
     "name": "stdout",
     "output_type": "stream",
     "text": [
      "continue\n"
     ]
    }
   ],
   "source": [
    "try:\n",
    "    if best_model.kernel == 'rbf':\n",
    "        ref_assert_var = True\n",
    "        print('continue')\n",
    "    else:\n",
    "        ref_assert_var = False\n",
    "        print('Please follow the instructions given and use the same variables provided in the instructions.')\n",
    "except Exception:\n",
    "    print('Please follow the instructions given and use the same variables provided in the instructions.')"
   ]
  },
  {
   "cell_type": "markdown",
   "metadata": {
    "tags": [
     "s6",
     "content"
    ]
   },
   "source": [
    "## Validation & Reports\n",
    "\n",
    "We can see that SVM gives us best accuracy, hence we will use it in production. We have printed the confusion matrix and Classification report of the model.\n",
    "\n",
    "* Compute Accuracy Score and assign it to variable, svm_score."
   ]
  },
  {
   "cell_type": "code",
   "execution_count": 172,
   "metadata": {
    "collapsed": true,
    "tags": [
     "s6",
     "ce"
    ]
   },
   "outputs": [],
   "source": [
    "#Printing Accuracy, Confusion Matrix and Classification report"
   ]
  },
  {
   "cell_type": "markdown",
   "metadata": {
    "tags": [
     "s6",
     "hint"
    ]
   },
   "source": [
    "Use accuracy_score, confusion_matrix, classification_report functions."
   ]
  },
  {
   "cell_type": "code",
   "execution_count": 42,
   "metadata": {
    "tags": [
     "s6",
     "ans"
    ]
   },
   "outputs": [
    {
     "name": "stdout",
     "output_type": "stream",
     "text": [
      "0.75\n",
      "[[197  17]\n",
      " [ 58  28]]\n",
      "             precision    recall  f1-score   support\n",
      "\n",
      "          0       0.77      0.92      0.84       214\n",
      "          1       0.62      0.33      0.43        86\n",
      "\n",
      "avg / total       0.73      0.75      0.72       300\n",
      "\n"
     ]
    }
   ],
   "source": [
    "svm_score = accuracy_score(y_test, y_hat)\n",
    "print(svm_score)\n",
    "print(confusion_matrix(y_test, y_hat))\n",
    "print(classification_report(y_test, y_hat))"
   ]
  },
  {
   "cell_type": "code",
   "execution_count": 43,
   "metadata": {
    "tags": [
     "s6",
     "hid"
    ]
   },
   "outputs": [
    {
     "name": "stdout",
     "output_type": "stream",
     "text": [
      "continue\n"
     ]
    }
   ],
   "source": [
    "try:\n",
    "    if svm_score == 0.75:\n",
    "        ref_assert_var = True\n",
    "        print('continue')\n",
    "    else:\n",
    "        ref_assert_var = False\n",
    "        print('Please follow the instructions given and use the same variables provided in the instructions.')\n",
    "except Exception:\n",
    "    print('Please follow the instructions given and use the same variables provided in the instructions.')"
   ]
  },
  {
   "cell_type": "markdown",
   "metadata": {
    "tags": [
     "s7",
     "content"
    ]
   },
   "source": [
    "## Scaling to Big Data\n",
    "\n",
    "Next is moving to production. Since we have already done cleaning in the experiments phase, let us borrow some portions of data cleaning build out the ingestion portion. We shall use a python notebook to experiment and setup the ingestion pipeline.\n",
    "\n",
    "* Copy the dataframe map functions and other related data cleaning regular expressions to Spark.\n",
    "* Pandas dataframe & Spark dataframes have similar functions.\n",
    "* Save ingested data, sample.\n",
    "* Save feature vectors, feature sample.\n",
    "\n",
    "<img src=\"../images/data_ingestion.png\", style=\"width: 400px;\"> \n",
    "\n",
    "### Data Ingestion Spark Module\n",
    "\n",
    "* The module uses regular expressions, map, reduce functions in spark.\n",
    "\n",
    "```\n",
    "# display(dbutils.fs.ls(\"dbfs:/FileStore/tables/ohvubrzw1507843246878/\"))\n",
    "from pyspark.mllib.classification import SVMWithSGD, SVMModel\n",
    "from pyspark.mllib.regression import LabeledPoint\n",
    "from pyspark.sql import SQLContext\n",
    "from copy import deepcopy\n",
    "\n",
    "\n",
    "sqlContext = SQLContext(sc)\n",
    "credit_df = spark.read.format(\"csv\").option(\"header\", \"true\").option(\"inferSchema\", \"True\").load(\"dbfs:/FileStore/tables/ohvubrzw1507843246878/german_credit.csv\")\n",
    "\n",
    "credit_df_sample = credit_features.sample(False, 1e-2, 20171010)\n",
    "credit_df.write.parquet(\"dbfs:/FileStore/tables/credit_df.parquet\")\n",
    "credit_df_sample.write.parquet(\"dbfs:/FileStore/tables/credit_df_sample.parquet\")\n",
    "\n",
    "\n",
    "credit_data = credit_df.rdd\n",
    "feature_cols = credit_df.columns\n",
    "target = 'Creditability'\n",
    "feature_cols.pop(0)\n",
    "\n",
    "def amount_class(amount):\n",
    "    '''\n",
    "    Classify the amount into different classes.\n",
    "    Args:\n",
    "        amount (float): Total amount\n",
    "    Returns:\n",
    "        class (int): Type of class.\n",
    "        \n",
    "    '''\n",
    "    if amount < 5000:\n",
    "        return 1\n",
    "    elif amount < 10000:\n",
    "        return 2\n",
    "    elif amount < 15000:\n",
    "        return 3\n",
    "    else:\n",
    "        return 4\n",
    "        \n",
    "\n",
    "credit_data_new =  credit_data.map(lambda row: (row, amount_class(row['Credit Amount'])))\n",
    "credit_data_new.take(5)\n",
    "\n",
    "\n",
    "```\n",
    "\n",
    "## Spark MLLib\n",
    "\n",
    "Use the Spark Machine Learning Library to train the SVM on a sample of the dataset. \n",
    "* Increase sample size as the training succeeds.\n",
    "* Ingest all data\n",
    "\n",
    "<img src=\"../images/scale_bd.png\", style=\"width: 500px;\"> \n",
    "\n",
    "```\n",
    "def features(row):\n",
    "  '''\n",
    "  Gathers features from the dataset.\n",
    "  Args:\n",
    "    row (rdd): Each row in the dataset.\n",
    "  Returns:\n",
    "    (LabeledPoint): Labeled Point of each row.\n",
    "    \n",
    "  '''\n",
    "  feature_map = row.asDict()\n",
    "  label = float(feature_map['Creditability'])\n",
    "  feature_list = [float(feature_map[feature]) for feature in feature_cols]\n",
    "  return LabeledPoint(label, feature_list)\n",
    "\n",
    "\n",
    "credit_features = credit_data.map(features)\n",
    "credit_features_df = credit_features.toDF()\n",
    "credit_features_df.write.parquet(\"dbfs:/FileStore/tables/credit.parquet\")\n",
    "\n",
    "# Sample the features and save it.\n",
    "credit_sample_df = credit_features.sample(False, 1e-2, 20171010)\n",
    "credit_sample_df.write.parquet(\"dbfs:/FileStore/tables/credit_sample.parquet\")\n",
    "\n",
    "\n",
    "# Read the credit data features\n",
    "credit_features = sqlContext.parquetFile('dbfs:/FileStore/tables/credit.parquet')\n",
    "model = SVMWithSGD.train(credit_features, iterations=100)\n",
    "\n",
    "# Evaluating the model on training data\n",
    "labels_preds = lp.map(lambda p: (p.label, model.predict(p.features)))\n",
    "trainErr = labels_preds.filter(lambda lp: lp[0] != lp[1]).count() / float(lp.count())\n",
    "print(\"Training Error = \" + str(trainErr))\n",
    "\n",
    "# Print the coefficients and intercept for linearsSVC\n",
    "print(\"Coefficients: \" + str(model.weights))\n",
    "print(\"Intercept: \" + str(model.intercept))\n",
    "\n",
    "# Save and load model\n",
    "model.save(sc, \"credit/SVMWithSGDModel\")\n",
    "\n",
    "```\n",
    "\n",
    "## Package the Modules & Submit\n",
    "\n",
    "* We now have a data ingestion module & Deployments of the App -> Data Engineers\n",
    "* Data Science Experiments -> Data Scientists\n",
    "* Machine Learning Spark code + Data Science Experiments -> ML Engineers\n",
    "* spark-submit gcclassify.py --args"
   ]
  },
  {
   "cell_type": "code",
   "execution_count": 179,
   "metadata": {
    "collapsed": true,
    "tags": [
     "s7",
     "ce"
    ]
   },
   "outputs": [],
   "source": [
    "# Load the model"
   ]
  },
  {
   "cell_type": "markdown",
   "metadata": {
    "tags": [
     "s7",
     "hint"
    ]
   },
   "source": [
    "Continue"
   ]
  },
  {
   "cell_type": "code",
   "execution_count": 180,
   "metadata": {
    "collapsed": true,
    "tags": [
     "s7",
     "ans"
    ]
   },
   "outputs": [],
   "source": [
    "# continue"
   ]
  }
 ],
 "metadata": {
  "executed_sections": [],
  "kernelspec": {
   "display_name": "Python 3",
   "language": "python",
   "name": "python3"
  },
  "language_info": {
   "codemirror_mode": {
    "name": "ipython",
    "version": 3
   },
   "file_extension": ".py",
   "mimetype": "text/x-python",
   "name": "python",
   "nbconvert_exporter": "python",
   "pygments_lexer": "ipython3",
   "version": "3.5.2"
  }
 },
 "nbformat": 4,
 "nbformat_minor": 2
}